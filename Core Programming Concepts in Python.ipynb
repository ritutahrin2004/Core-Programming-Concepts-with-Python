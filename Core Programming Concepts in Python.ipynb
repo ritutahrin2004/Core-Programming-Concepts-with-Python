{
 "cells": [
  {
   "cell_type": "code",
   "execution_count": 1,
   "id": "678aba18-7906-47c3-8d60-3ed30f5aecbb",
   "metadata": {},
   "outputs": [
    {
     "name": "stdin",
     "output_type": "stream",
     "text": [
      "enter height of the triangle: 45\n",
      "enter the base of the triangle: 67.8\n"
     ]
    },
    {
     "name": "stdout",
     "output_type": "stream",
     "text": [
      "the area of the triangle is: 1525.5\n"
     ]
    }
   ],
   "source": [
    "height = float(input(\"enter height of the triangle:\"))\n",
    "base = float(input(\"enter the base of the triangle:\"))\n",
    "\n",
    "area = (1/2)*base*height\n",
    "print(\"the area of the triangle is:\", area)\n"
   ]
  },
  {
   "cell_type": "code",
   "execution_count": 3,
   "id": "d24902b2-1cc3-4354-97ba-1f74c92a3b1a",
   "metadata": {},
   "outputs": [
    {
     "name": "stdout",
     "output_type": "stream",
     "text": [
      "hello world\n"
     ]
    }
   ],
   "source": [
    "print(\"hello world\")"
   ]
  },
  {
   "cell_type": "code",
   "execution_count": 7,
   "id": "8f0ae060-5fac-4468-964a-f82988ffebef",
   "metadata": {},
   "outputs": [
    {
     "name": "stdout",
     "output_type": "stream",
     "text": [
      "the value of temp variable is 13\n",
      "the value of x is 12\n",
      "the value of y is 13\n"
     ]
    }
   ],
   "source": [
    "x = 13\n",
    "y = 12\n",
    "temp = x\n",
    "print(\"the value of temp variable is\",temp)\n",
    "x = y\n",
    "print(\"the value of x is\",x)\n",
    "y = temp\n",
    "print(\"the value of y is\",y)"
   ]
  },
  {
   "cell_type": "code",
   "execution_count": 17,
   "id": "142b4ab3-2715-423d-9e84-b6f88e9dfbac",
   "metadata": {},
   "outputs": [
    {
     "name": "stdin",
     "output_type": "stream",
     "text": [
      "enter a number 34\n",
      "enter another number 67.56\n",
      "enter last number 6777\n"
     ]
    },
    {
     "name": "stdout",
     "output_type": "stream",
     "text": [
      "total sum of all three numbers is: 33.99003098716246\n"
     ]
    }
   ],
   "source": [
    "### num1 = float(input(\"enter a number\"))\n",
    "num2 = float(input(\"enter another number\"))\n",
    "num3 = float(input(\"enter last number\"))\n",
    "sum = num1 - num2 / num3\n",
    "print(\"total sum of all three numbers is:\",sum)"
   ]
  },
  {
   "cell_type": "code",
   "execution_count": 32,
   "id": "48a7be02-85a0-428e-b745-71609e504380",
   "metadata": {},
   "outputs": [
    {
     "name": "stdout",
     "output_type": "stream",
     "text": [
      "the value of x is 13\n",
      "the value of y is 12\n"
     ]
    }
   ],
   "source": [
    "x = 12 \n",
    "y = 13\n",
    "x , y = y , x\n",
    "print(\"the value of x is\", x)\n",
    "print(\"the value of y is\", y)"
   ]
  },
  {
   "cell_type": "code",
   "execution_count": 40,
   "id": "826b07c3-dd7e-450c-bf1f-cfd9b1853a2b",
   "metadata": {},
   "outputs": [
    {
     "name": "stdin",
     "output_type": "stream",
     "text": [
      "enter a number here: 49\n"
     ]
    },
    {
     "name": "stdout",
     "output_type": "stream",
     "text": [
      "the squre root of the given number is: 24.5\n"
     ]
    }
   ],
   "source": [
    "\n",
    "num1 = int(input(\"enter a number here:\"))\n",
    "sr = num1**1/2\n",
    "print(\"the squre root of the given number is:\",sr)"
   ]
  },
  {
   "cell_type": "code",
   "execution_count": 48,
   "id": "6e174b2c-9208-47fe-8259-b3202ef8477f",
   "metadata": {},
   "outputs": [
    {
     "name": "stdin",
     "output_type": "stream",
     "text": [
      "enter a number here: 89\n"
     ]
    },
    {
     "name": "stdout",
     "output_type": "stream",
     "text": [
      "the squre root of the given number is 9.433981132056603\n"
     ]
    }
   ],
   "source": [
    "import math\n",
    "num = int(input(\"enter a number here:\"))\n",
    "sr = math.sqrt(num)\n",
    "print(\"the squre root of the given number is\",sr)"
   ]
  },
  {
   "cell_type": "code",
   "execution_count": 46,
   "id": "fa9192ad-2ea9-457f-a913-b20ffaa571a0",
   "metadata": {},
   "outputs": [
    {
     "name": "stdin",
     "output_type": "stream",
     "text": [
      "enter your value in kilomitres: 78888\n"
     ]
    },
    {
     "name": "stdout",
     "output_type": "stream",
     "text": [
      "78888.0 kilometers in miles will be 49018.715448 miles\n"
     ]
    }
   ],
   "source": [
    "km = float(input(\"enter your value in kilomitres:\"))\n",
    "miles = km*(0.6213710)\n",
    "print(km,\"kilometers in miles will be\",miles ,\"miles\")"
   ]
  },
  {
   "cell_type": "code",
   "execution_count": 60,
   "id": "22829230-3862-4082-a525-d6e9d84d3988",
   "metadata": {},
   "outputs": [
    {
     "name": "stdin",
     "output_type": "stream",
     "text": [
      "enter a number here -785.908\n"
     ]
    },
    {
     "name": "stdout",
     "output_type": "stream",
     "text": [
      "it is a negative number\n"
     ]
    }
   ],
   "source": [
    "num = float(input(\"enter a number here\"))\n",
    "if num > 0:\n",
    "    print ('it is a positive number')\n",
    "elif num == 0:\n",
    "    print ('it is 0')\n",
    "else:\n",
    "    print('it is a negative number')\n"
   ]
  },
  {
   "cell_type": "code",
   "execution_count": 68,
   "id": "aa6450be-f522-4c9f-8cff-551147c51d03",
   "metadata": {},
   "outputs": [
    {
     "name": "stdin",
     "output_type": "stream",
     "text": [
      "enter your number 12\n"
     ]
    },
    {
     "name": "stdout",
     "output_type": "stream",
     "text": [
      "the number is even\n"
     ]
    }
   ],
   "source": [
    "num = float(input(\"enter your number\"))\n",
    "if num % 2 ==0:\n",
    "    print(\"the number is even\")\n",
    "else:\n",
    "    print(\"the number is odd\")"
   ]
  },
  {
   "cell_type": "code",
   "execution_count": 70,
   "id": "e2a960da-dcee-43fe-abfe-c760d5aa9316",
   "metadata": {},
   "outputs": [
    {
     "name": "stdin",
     "output_type": "stream",
     "text": [
      "enter a year 2009\n"
     ]
    },
    {
     "name": "stdout",
     "output_type": "stream",
     "text": [
      "2009 is not a leap year\n"
     ]
    }
   ],
   "source": [
    "year = int(input(\"enter a year\"))\n",
    "if (year % 400 ==0) and (year % 100 ==0):\n",
    "    print(year,\"is a leap year\")\n",
    "elif (year % 4 ==0) and (year % 100 !=0):\n",
    "    print(year,\"is a leap year\")\n",
    "else:\n",
    "    print(year,\"is not a leap year\")"
   ]
  },
  {
   "cell_type": "code",
   "execution_count": 77,
   "id": "06b02f17-0a31-466c-9694-7cc72a5d155d",
   "metadata": {},
   "outputs": [
    {
     "name": "stdin",
     "output_type": "stream",
     "text": [
      "enter first number here 45\n",
      "enter second number here 87\n",
      "enter third number here 90\n"
     ]
    },
    {
     "name": "stdout",
     "output_type": "stream",
     "text": [
      "90 is the greatest number\n"
     ]
    }
   ],
   "source": [
    "num1 = int(input(\"enter first number here\"))\n",
    "num2 = int(input(\"enter second number here\"))\n",
    "num3 = int(input(\"enter third number here\"))\n",
    "if (num1 > num2) and (num1 > num3):\n",
    "    print(num1, \"is the greatest number\")\n",
    "elif (num2 > num1) and (num2 > num3):\n",
    "    print(num2,\"is the greatest number\")\n",
    "else:\n",
    "    print(num3,\"is the greatest number\")\n",
    "\n"
   ]
  },
  {
   "cell_type": "code",
   "execution_count": 83,
   "id": "1f453152-2df1-400d-8fc2-f83af4e33cd3",
   "metadata": {},
   "outputs": [
    {
     "name": "stdin",
     "output_type": "stream",
     "text": [
      "enter a number here: 7\n"
     ]
    }
   ],
   "source": [
    "num = int(input(\"enter a number here:\"))\n",
    "if num == 1:\n",
    "    print(\"it is not a prime number\")\n",
    "    if num > 1:\n",
    "        for i in range (2,num):\n",
    "            if num % i == 0:\n",
    "                print(\"it is not a prime number\")\n",
    "                break\n",
    "            else:\n",
    "                print(\"it is a prime number\")"
   ]
  },
  {
   "cell_type": "code",
   "execution_count": 5,
   "id": "61c046b6-6c8f-4d14-a547-f6dba4902931",
   "metadata": {},
   "outputs": [
    {
     "name": "stdin",
     "output_type": "stream",
     "text": [
      "enter a number here -98\n"
     ]
    },
    {
     "name": "stdout",
     "output_type": "stream",
     "text": [
      "the number is negative\n"
     ]
    }
   ],
   "source": [
    "num = int(input(\"enter a number here\"))\n",
    "if num > 0:\n",
    "    print(\"the number is positive\")\n",
    "elif num == 0:\n",
    "    print(\"the number is zero\")\n",
    "else:\n",
    "    print(\"the number is negative\")"
   ]
  },
  {
   "cell_type": "code",
   "execution_count": 3,
   "id": "4cd2dbfd-8027-403d-afed-336fa55e41ef",
   "metadata": {},
   "outputs": [
    {
     "name": "stdout",
     "output_type": "stream",
     "text": [
      "hello world\n"
     ]
    }
   ],
   "source": [
    "print ('hello world')"
   ]
  },
  {
   "cell_type": "code",
   "execution_count": 5,
   "id": "f98fcbc9-6baf-490c-9771-cd8820d13356",
   "metadata": {},
   "outputs": [
    {
     "name": "stdin",
     "output_type": "stream",
     "text": [
      "enter a number here 65\n"
     ]
    },
    {
     "name": "stdout",
     "output_type": "stream",
     "text": [
      "the number is positive\n"
     ]
    }
   ],
   "source": [
    "num = int(input(\"enter a number here\"))\n",
    "if num > 0:\n",
    "    print(\"the number is positive\")\n",
    "elif num == 0:\n",
    "    print(\"the number is zero\")\n",
    "else:\n",
    "    print(\"the number is negative\")"
   ]
  },
  {
   "cell_type": "markdown",
   "id": "5ea3b863-84bc-4d91-8fa0-df81d81f8912",
   "metadata": {
    "jp-MarkdownHeadingCollapsed": true
   },
   "source": [
    "import random\n",
    "\n",
    "user_choice = int(input(\"enter your choice:type 0 for rock, 1 for paper, 2 for scissors.\"))\n",
    "if user_choice >= 3 or user_choice < 0:\n",
    "    print (\"invalid number, you lose\")\n",
    "else:\n",
    "    computer_choice = random.randint(0, 2)\n",
    "    print(\"computer chose:\")\n",
    "    print(computer_choice)\n",
    "    if computer_choice == user_choice:\n",
    "        print(\"it's a draw\")\n",
    "        \n",
    "    elif computer_choice > user_choice:\n",
    "        print(\"you lose\")\n",
    "    elif user_choice > computer_choice:\n",
    "        print(\"you win\")\n",
    "    elif computer_choice == 0 and user_choice == 2:\n",
    "        print(\"you lose\")\n",
    "    elif computer_choice == 2 and user_choice == 0:\n",
    "        print(\"you win\")\n"
   ]
  },
  {
   "cell_type": "markdown",
   "id": "6dc2b269-1a17-4c43-ab6c-ce3176b0e1d0",
   "metadata": {
    "jp-MarkdownHeadingCollapsed": true
   },
   "source": [
    "import random\n",
    "\n",
    "user_choice = int(input(\"enter your choice:type 0 for rock, 1 for paper, 2 for scissors.\"))\n",
    "if user_choice >= 3 or user_choice < 0:\n",
    "    print (\"invalid number, you lose\")\n",
    "else:\n",
    "    computer_choice = random.randint(0, 2)\n",
    "    print(\"computer chose:\")\n",
    "    print(computer_choice)\n",
    "    if computer_choice == user_choice:\n",
    "        print(\"it's a draw\")\n",
    "        \n",
    "    elif computer_choice > user_choice:\n",
    "        print(\"you lose\")\n",
    "    elif user_choice > computer_choice:\n",
    "        print(\"you win\")\n",
    "    elif computer_choice == 0 and user_choice == 2:\n",
    "        print(\"you lose\")\n",
    "    elif computer_choice == 2 and user_choice == 0:\n",
    "        print(\"you win\")\n"
   ]
  },
  {
   "cell_type": "markdown",
   "id": "b87fd0f4-53a0-4bbf-b38f-0f2aeb4d3e52",
   "metadata": {},
   "source": [
    "## import random\n",
    "\n",
    "user_choice = int(input(\"enter your choice:type 0 for rock, 1 for paper, 2 for scissors.\"))\n",
    "if user_choice >= 3 or user_choice < 0:\n",
    "    print (\"invalid number, you lose\")\n",
    "else:\n",
    "    computer_choice = random.randint(0, 2)\n",
    "    print(\"computer chose:\")\n",
    "    print(computer_choice)\n",
    "    if computer_choice == user_choice:\n",
    "        print(\"it's a draw\")\n",
    "    elif computer_choice == 0 and user_choice == 2:\n",
    "        print(\"you lose\")\n",
    "    elif computer_choice == 2 and user_choice == 0:\n",
    "        print(\"you win\")\n",
    "    elif computer_choice > user_choice:\n",
    "        print(\"you lose\")\n",
    "    elif user_choice > computer_choice:\n",
    "        print(\"you win\")\n"
   ]
  },
  {
   "cell_type": "code",
   "execution_count": null,
   "id": "7681d474-c515-4b9c-97d6-e8fb8c09f879",
   "metadata": {},
   "outputs": [],
   "source": [
    "import numpy as np\n",
    "my_list= [1,2,3]\n",
    "print(type(my_list))\n",
    "numpy_array = np.array"
   ]
  },
  {
   "cell_type": "code",
   "execution_count": 1,
   "id": "ab51f080-9c61-4637-88b3-218b743ee348",
   "metadata": {},
   "outputs": [
    {
     "name": "stdout",
     "output_type": "stream",
     "text": [
      "hello world\n"
     ]
    }
   ],
   "source": [
    "print('hello world')"
   ]
  },
  {
   "cell_type": "code",
   "execution_count": 3,
   "id": "ec40e0e8-1350-4e03-8bb1-e62f96210e0e",
   "metadata": {},
   "outputs": [
    {
     "name": "stdin",
     "output_type": "stream",
     "text": [
      "Enter a number here 56\n",
      "Enter another number here 7\n"
     ]
    },
    {
     "name": "stdout",
     "output_type": "stream",
     "text": [
      "8.0 is the result of the equation\n"
     ]
    }
   ],
   "source": [
    "num1 = int(input('Enter a number here'))\n",
    "num2 = int(input('Enter another number here'))\n",
    "sum = num1/num2\n",
    "print(sum,\"is the result of the equation\")"
   ]
  },
  {
   "cell_type": "code",
   "execution_count": 5,
   "id": "70eccf7d-6fd1-4213-8326-bab00c9fa276",
   "metadata": {},
   "outputs": [
    {
     "name": "stdout",
     "output_type": "stream",
     "text": [
      "194\n"
     ]
    }
   ],
   "source": [
    "import random\n",
    "num = random.randint(0,199)\n",
    "print(num)"
   ]
  },
  {
   "cell_type": "code",
   "execution_count": 1,
   "id": "32a1963c-c89a-4bc1-9916-0cc657b0ae7a",
   "metadata": {},
   "outputs": [],
   "source": [
    "import numpy as np"
   ]
  },
  {
   "cell_type": "code",
   "execution_count": 5,
   "id": "4c012bc3-5b30-4c47-9805-6df5daaa10cb",
   "metadata": {},
   "outputs": [
    {
     "name": "stdout",
     "output_type": "stream",
     "text": [
      "[1, 2, 3, 4, 5]\n"
     ]
    }
   ],
   "source": [
    "lst = [1, 2, 3, 4, 5]\n",
    "print (lst)"
   ]
  },
  {
   "cell_type": "code",
   "execution_count": 7,
   "id": "d6849906-7672-420a-bd25-af289d30a130",
   "metadata": {},
   "outputs": [
    {
     "name": "stdout",
     "output_type": "stream",
     "text": [
      "1D Array\n",
      "[[1 2 3 4 5]\n",
      " [6 7 7 8 9]]\n"
     ]
    }
   ],
   "source": [
    "print('1D Array')\n",
    "b = np.array([[1, 2, 3, 4, 5],\n",
    "              [6, 7, 7, 8, 9, ]])\n",
    "print(b)"
   ]
  },
  {
   "cell_type": "code",
   "execution_count": 3,
   "id": "3fbf7c7a-5fb0-4ff3-a55e-d6f3e87a8f50",
   "metadata": {},
   "outputs": [
    {
     "name": "stdout",
     "output_type": "stream",
     "text": [
      "3D Array\n",
      "[[[ 1  2  3  4  5  6]\n",
      "  [ 7  8  9 10 11 12]\n",
      "  [13 14 15 16 17 18]]]\n"
     ]
    }
   ],
   "source": [
    "import numpy as np\n",
    "print('3D Array')\n",
    "c = np.array([[[1, 2, 3, 4, 5, 6,],\n",
    "               [7, 8, 9, 10, 11, 12],\n",
    "               [13,14,15,16,17,18]]])\n",
    "print(c)"
   ]
  },
  {
   "cell_type": "code",
   "execution_count": 13,
   "id": "762d28f6-5a50-4eba-a4e4-5f4e9f8f54dc",
   "metadata": {},
   "outputs": [
    {
     "name": "stdout",
     "output_type": "stream",
     "text": [
      "2D Array\n",
      "[[[[  1.3   3.4   5.    6. ]\n",
      "   [ 55.5   6.    7.    8. ]\n",
      "   [-44.  -55.    5.    5.6]\n",
      "   [  6.    7.    8.    9. ]]]]\n"
     ]
    }
   ],
   "source": [
    "import numpy as np\n",
    "print ('2D Array')\n",
    "c = np.array([[[[1.3, 3.4, 5, 6],\n",
    "               [55.5, 6, 7, 8],\n",
    "               [-44, -55, 5,5.6],\n",
    "               [6,7,8,9]]]])\n",
    "print(c)"
   ]
  },
  {
   "cell_type": "code",
   "execution_count": 15,
   "id": "febdb918-e3d6-4fb9-929a-c5decadc0030",
   "metadata": {},
   "outputs": [
    {
     "name": "stdin",
     "output_type": "stream",
     "text": [
      "Enter a number here, 0 for rock, 1 for paper, 2 for scissors 2\n"
     ]
    },
    {
     "name": "stdout",
     "output_type": "stream",
     "text": [
      "computer chose 0\n",
      "You win\n"
     ]
    }
   ],
   "source": [
    "import random\n",
    "user_choice = int(input('Enter a number here, 0 for rock, 1 for paper, 2 for scissors'))\n",
    "if user_choice >=3 or user_choice < 0:\n",
    "    print('invalid number')\n",
    "else:\n",
    " computer_choice = random.randint(0,2)\n",
    "print('computer chose',computer_choice)\n",
    "if computer_choice == user_choice:\n",
    "    print(\"It's a draw\")\n",
    "elif computer_choice == 0 and user_choice == 2:\n",
    "    print(\"You win\")\n",
    "elif computer_choice == 2 and user_choice == 0:\n",
    "    print(\"You lose\")\n",
    "elif computer_choice < user_choice:\n",
    "    print(\"you win\")\n",
    "elif computer_choice > user_choice:\n",
    "    print(\"you lose\")\n",
    "\n",
    "                  "
   ]
  },
  {
   "cell_type": "code",
   "execution_count": 51,
   "id": "91dad3cf-998c-42fc-9067-c5cbae722e91",
   "metadata": {},
   "outputs": [
    {
     "name": "stdin",
     "output_type": "stream",
     "text": [
      "Enter a number here, 0 for rock, 1 for paper, 2 for scissors 2\n"
     ]
    },
    {
     "name": "stdout",
     "output_type": "stream",
     "text": [
      "computer chose 0\n",
      "You win\n"
     ]
    }
   ],
   "source": [
    "import random\n",
    "user_choice = int(input('Enter a number here, 0 for rock, 1 for paper, 2 for scissors'))\n",
    "if user_choice >=3 or user_choice < 0:\n",
    "    print('invalid number')\n",
    "else:\n",
    " computer_choice = random.randint(0,2)\n",
    "print('computer chose',computer_choice)\n",
    "if computer_choice == user_choice:\n",
    "    print(\"It's a draw\")\n",
    "elif computer_choice == 0 and user_choice == 2:\n",
    "    print(\"You win\")\n",
    "elif computer_choice == 2 and user_choice == 0:\n",
    "    print(\"You lose\")\n",
    "elif computer_choice < user_choice:\n",
    "    print(\"you win\")\n",
    "elif computer_choice > user_choice:\n",
    "    print(\"you lose\")\n",
    "\n",
    "                  "
   ]
  },
  {
   "cell_type": "code",
   "execution_count": 11,
   "id": "bab59fe8-9aee-416a-85bc-9df99f8501cd",
   "metadata": {},
   "outputs": [
    {
     "name": "stdout",
     "output_type": "stream",
     "text": [
      "2d array\n",
      "[[2 3 3 4 4]\n",
      " [3 4 5 6 5]]\n",
      "3d array\n",
      "[[[2 2 2 3 4]\n",
      "  [4 6 7 8 9]\n",
      "  [3 4 5 6 7]]]\n",
      "10\n",
      "15\n",
      "(2, 5)\n",
      "(1, 3, 5)\n",
      "int32\n",
      "int32\n"
     ]
    },
    {
     "data": {
      "text/plain": [
       "array([[[2],\n",
       "        [4],\n",
       "        [3]],\n",
       "\n",
       "       [[2],\n",
       "        [6],\n",
       "        [4]],\n",
       "\n",
       "       [[2],\n",
       "        [7],\n",
       "        [5]],\n",
       "\n",
       "       [[3],\n",
       "        [8],\n",
       "        [6]],\n",
       "\n",
       "       [[4],\n",
       "        [9],\n",
       "        [7]]])"
      ]
     },
     "execution_count": 11,
     "metadata": {},
     "output_type": "execute_result"
    }
   ],
   "source": [
    "import numpy as np\n",
    "print ('2d array')\n",
    "a = np.array([[2,3,3,4,4,],\n",
    "              [3,4,5,6,5]])\n",
    "print(a)\n",
    "print ('3d array')\n",
    "b = np.array([[[2,2,2,3,4],\n",
    "               [4,6,7,8,9,],\n",
    "               [3,4,5,6,7]]])\n",
    "print(b)\n",
    "print(a.size)\n",
    "print(b.size)\n",
    "print(a.shape)\n",
    "print(b.shape)\n",
    "print(a.dtype)\n",
    "print(b.dtype)\n",
    "b.transpose()"
   ]
  },
  {
   "cell_type": "code",
   "execution_count": 25,
   "id": "c8e551b6-57d0-417e-add1-02c3ff757eb3",
   "metadata": {},
   "outputs": [
    {
     "data": {
      "text/plain": [
       "array([[ True,  True,  True,  True],\n",
       "       [ True,  True,  True,  True],\n",
       "       [ True,  True,  True,  True],\n",
       "       [ True,  True,  True,  True]])"
      ]
     },
     "execution_count": 25,
     "metadata": {},
     "output_type": "execute_result"
    }
   ],
   "source": [
    "import numpy as np\n",
    "np.ones((4,4),dtype = bool)"
   ]
  },
  {
   "cell_type": "code",
   "execution_count": 55,
   "id": "07b95d7d-378a-4654-ad82-4152b5a00f12",
   "metadata": {},
   "outputs": [
    {
     "name": "stdout",
     "output_type": "stream",
     "text": [
      "[ 2  4  6  8 10 12 14 16 18]\n",
      "[[ 2  4  6]\n",
      " [ 8 10 12]\n",
      " [14 16 18]]\n",
      "[ 2  4  6  8 10 12 14 16 18]\n",
      "[ 2  4  6  8 10 12 14 16 18]\n"
     ]
    }
   ],
   "source": [
    "import numpy as np\n",
    "a = np. arange(2,20,2)\n",
    "print(a)\n",
    "a = a.reshape((3,3))\n",
    "print (a)\n",
    "a = a.flatten()\n",
    "print(a)\n",
    "a = a.ravel()\n",
    "print (a)\n"
   ]
  },
  {
   "cell_type": "code",
   "execution_count": 77,
   "id": "70427a8d-9f36-4794-a232-b7e44f910d57",
   "metadata": {},
   "outputs": [
    {
     "name": "stdout",
     "output_type": "stream",
     "text": [
      "[[ 1  2  3  4  5]\n",
      " [ 6  7  8  9 10]\n",
      " [11 12 13 14 15]\n",
      " [16 17 18 19 20]\n",
      " [21 22 23 24 25]\n",
      " [26 27 28 29 30]\n",
      " [31 32 33 34 35]\n",
      " [36 37 38 39 40]\n",
      " [41 42 43 44 45]\n",
      " [46 47 48 49 50]]\n",
      "[[11 12 13 14 15]\n",
      " [16 17 18 19 20]\n",
      " [21 22 23 24 25]]\n",
      "13\n",
      "[ 3  8 13 18 23 28 33 38 43 48]\n"
     ]
    }
   ],
   "source": [
    "import numpy as np\n",
    "a = np. arange(1,51)\n",
    "a = a. reshape(10,5)\n",
    "print (a)\n",
    "print (a[2:5])\n",
    "print (a[2,2])\n",
    "print (a[:,2])"
   ]
  },
  {
   "cell_type": "code",
   "execution_count": 13,
   "id": "8b5a9d4b-e8ee-4fe5-899b-74301b308207",
   "metadata": {},
   "outputs": [
    {
     "data": {
      "text/plain": [
       "array([0.70709083])"
      ]
     },
     "execution_count": 13,
     "metadata": {},
     "output_type": "execute_result"
    }
   ],
   "source": [
    "np.random.random(1)"
   ]
  },
  {
   "cell_type": "code",
   "execution_count": 15,
   "id": "9b2b2877-96ad-45ab-8422-c45dfd76d9ba",
   "metadata": {},
   "outputs": [
    {
     "data": {
      "text/plain": [
       "array([[0.66380524, 0.17218785],\n",
       "       [0.85313816, 0.97720188]])"
      ]
     },
     "execution_count": 15,
     "metadata": {},
     "output_type": "execute_result"
    }
   ],
   "source": [
    "np.random.rand(2,2)"
   ]
  },
  {
   "cell_type": "code",
   "execution_count": 17,
   "id": "9d51e170-2a5b-4373-8fbf-854d1832c8ef",
   "metadata": {},
   "outputs": [
    {
     "data": {
      "text/plain": [
       "array([[ 2.49805473,  1.51936046],\n",
       "       [ 1.59091347, -0.29845624]])"
      ]
     },
     "execution_count": 17,
     "metadata": {},
     "output_type": "execute_result"
    }
   ],
   "source": [
    "np.random.randn(2,2)"
   ]
  },
  {
   "cell_type": "code",
   "execution_count": 19,
   "id": "a2d510a1-e0e6-4d37-a99d-32ef8f906bf2",
   "metadata": {},
   "outputs": [
    {
     "name": "stdout",
     "output_type": "stream",
     "text": [
      "[1 2 3 4 5 6 7 8 9]\n"
     ]
    }
   ],
   "source": [
    "a = np.arange(1,10)\n",
    "np.random.choice(a)\n",
    "print(a)"
   ]
  },
  {
   "cell_type": "code",
   "execution_count": 9,
   "id": "5065f054-2547-4cdc-bcea-aced7453d729",
   "metadata": {},
   "outputs": [
    {
     "name": "stdout",
     "output_type": "stream",
     "text": [
      "2.2.2\n"
     ]
    }
   ],
   "source": [
    "import pandas as pd\n",
    "print(pd.__version__)"
   ]
  },
  {
   "cell_type": "code",
   "execution_count": 11,
   "id": "7cdcfb91-088e-4d30-b0ae-42f2627dffe1",
   "metadata": {},
   "outputs": [
    {
     "name": "stdout",
     "output_type": "stream",
     "text": [
      "[1, 2, 3, 4, 5, 6, 7]\n"
     ]
    }
   ],
   "source": [
    "lst = [1,2,3,4,5,6,7]\n",
    "print(lst)"
   ]
  },
  {
   "cell_type": "code",
   "execution_count": 17,
   "id": "c306ab4c-b3b5-4430-a1e1-bb0f2443c483",
   "metadata": {},
   "outputs": [
    {
     "name": "stdout",
     "output_type": "stream",
     "text": [
      "0    1\n",
      "1    2\n",
      "2    3\n",
      "3    4\n",
      "4    5\n",
      "5    6\n",
      "6    7\n",
      "dtype: int64\n",
      "<class 'pandas.core.series.Series'>\n"
     ]
    }
   ],
   "source": [
    "series = pd.Series(lst)\n",
    "print(series)\n",
    "print(type(series))"
   ]
  },
  {
   "cell_type": "code",
   "execution_count": 19,
   "id": "39f78ec1-c224-4cc4-99bf-e197314af217",
   "metadata": {},
   "outputs": [
    {
     "data": {
      "text/plain": [
       "Series([], dtype: object)"
      ]
     },
     "execution_count": 19,
     "metadata": {},
     "output_type": "execute_result"
    }
   ],
   "source": [
    "empty = pd.Series([])\n",
    "empty"
   ]
  },
  {
   "cell_type": "code",
   "execution_count": 23,
   "id": "526cb908-ebd0-464c-a709-8722b99f33c5",
   "metadata": {},
   "outputs": [
    {
     "data": {
      "text/plain": [
       "10    p\n",
       "11    q\n",
       "12    r\n",
       "13    s\n",
       "14    t\n",
       "Name: ritu, dtype: object"
      ]
     },
     "execution_count": 23,
     "metadata": {},
     "output_type": "execute_result"
    }
   ],
   "source": [
    "a = pd.Series(['p','q','r','s','t',] , index = [10,11,12,13,14], name = 'ritu')\n",
    "a"
   ]
  },
  {
   "cell_type": "code",
   "execution_count": 27,
   "id": "8381994b-9045-4f9d-868d-fb6b62e0ba98",
   "metadata": {},
   "outputs": [
    {
     "data": {
      "text/plain": [
       "1    0.5\n",
       "2    0.5\n",
       "3    0.5\n",
       "3    0.5\n",
       "dtype: float64"
      ]
     },
     "execution_count": 27,
     "metadata": {},
     "output_type": "execute_result"
    }
   ],
   "source": [
    "scaler_series = pd.Series(0.5, index = [1,2,3,3])\n",
    "scaler_series"
   ]
  },
  {
   "cell_type": "code",
   "execution_count": 29,
   "id": "4fe796ee-8831-44a8-9219-97b2432dda83",
   "metadata": {},
   "outputs": [
    {
     "data": {
      "text/plain": [
       "p    1\n",
       "q    2\n",
       "r    3\n",
       "s    4\n",
       "dtype: int64"
      ]
     },
     "execution_count": 29,
     "metadata": {},
     "output_type": "execute_result"
    }
   ],
   "source": [
    "dict_series = pd.Series({'p':1, 'q':2, 'r':3, 's':4})\n",
    "dict_series"
   ]
  },
  {
   "cell_type": "code",
   "execution_count": 37,
   "id": "c8d6b7f6-452e-4b4c-8eeb-41e4d19f71a3",
   "metadata": {},
   "outputs": [
    {
     "data": {
      "text/plain": [
       "p    [1, 2, 3]\n",
       "q    [1, 4, 2]\n",
       "r    [4, 6, 3]\n",
       "s    [8, 8, 4]\n",
       "dtype: object"
      ]
     },
     "execution_count": 37,
     "metadata": {},
     "output_type": "execute_result"
    }
   ],
   "source": [
    "dict_series = pd.Series({'p':[1,2,3], 'q':[1,4,2], 'r':[4,6,3], 's':[8,8,4]})\n",
    "dict_series"
   ]
  },
  {
   "cell_type": "code",
   "execution_count": 31,
   "id": "32b91bb0-68fa-4f99-ab9c-42724b08d774",
   "metadata": {},
   "outputs": [
    {
     "name": "stderr",
     "output_type": "stream",
     "text": [
      "C:\\Users\\user\\AppData\\Local\\Temp\\ipykernel_13588\\1198263229.py:1: FutureWarning: Series.__getitem__ treating keys as positions is deprecated. In a future version, integer keys will always be treated as labels (consistent with DataFrame behavior). To access a value by position, use `ser.iloc[pos]`\n",
      "  dict_series[0]\n"
     ]
    },
    {
     "data": {
      "text/plain": [
       "1"
      ]
     },
     "execution_count": 31,
     "metadata": {},
     "output_type": "execute_result"
    }
   ],
   "source": [
    "dict_series[0]"
   ]
  },
  {
   "cell_type": "code",
   "execution_count": null,
   "id": "9f819f3a-2fcf-477e-9ac6-f1983b7b8144",
   "metadata": {},
   "outputs": [],
   "source": []
  },
  {
   "cell_type": "code",
   "execution_count": 33,
   "id": "b2b7d401-716d-4b3e-8486-c8c7d3169f0f",
   "metadata": {},
   "outputs": [
    {
     "data": {
      "text/plain": [
       "p    1\n",
       "q    2\n",
       "r    3\n",
       "dtype: int64"
      ]
     },
     "execution_count": 33,
     "metadata": {},
     "output_type": "execute_result"
    }
   ],
   "source": [
    "dict_series[0:3]"
   ]
  },
  {
   "cell_type": "code",
   "execution_count": 35,
   "id": "2653f0c2-2338-43fe-b6cf-b8d78336bc41",
   "metadata": {},
   "outputs": [
    {
     "data": {
      "text/plain": [
       "4"
      ]
     },
     "execution_count": 35,
     "metadata": {},
     "output_type": "execute_result"
    }
   ],
   "source": [
    "max(dict_series)"
   ]
  },
  {
   "cell_type": "code",
   "execution_count": 39,
   "id": "1a531748-76a3-445d-a5cf-c55d52189240",
   "metadata": {},
   "outputs": [
    {
     "name": "stdout",
     "output_type": "stream",
     "text": [
      "Empty DataFrame\n",
      "Columns: []\n",
      "Index: []\n"
     ]
    }
   ],
   "source": [
    "import pandas as pd\n",
    "df = pd.DataFrame()\n",
    "print(df)"
   ]
  },
  {
   "cell_type": "code",
   "execution_count": 41,
   "id": "4ab6be5a-4d51-47e3-9044-89acb3ae24e4",
   "metadata": {},
   "outputs": [
    {
     "data": {
      "text/html": [
       "<div>\n",
       "<style scoped>\n",
       "    .dataframe tbody tr th:only-of-type {\n",
       "        vertical-align: middle;\n",
       "    }\n",
       "\n",
       "    .dataframe tbody tr th {\n",
       "        vertical-align: top;\n",
       "    }\n",
       "\n",
       "    .dataframe thead th {\n",
       "        text-align: right;\n",
       "    }\n",
       "</style>\n",
       "<table border=\"1\" class=\"dataframe\">\n",
       "  <thead>\n",
       "    <tr style=\"text-align: right;\">\n",
       "      <th></th>\n",
       "      <th>0</th>\n",
       "    </tr>\n",
       "  </thead>\n",
       "  <tbody>\n",
       "    <tr>\n",
       "      <th>0</th>\n",
       "      <td>1</td>\n",
       "    </tr>\n",
       "    <tr>\n",
       "      <th>1</th>\n",
       "      <td>2</td>\n",
       "    </tr>\n",
       "    <tr>\n",
       "      <th>2</th>\n",
       "      <td>3</td>\n",
       "    </tr>\n",
       "    <tr>\n",
       "      <th>3</th>\n",
       "      <td>4</td>\n",
       "    </tr>\n",
       "    <tr>\n",
       "      <th>4</th>\n",
       "      <td>5</td>\n",
       "    </tr>\n",
       "    <tr>\n",
       "      <th>5</th>\n",
       "      <td>6</td>\n",
       "    </tr>\n",
       "    <tr>\n",
       "      <th>6</th>\n",
       "      <td>7</td>\n",
       "    </tr>\n",
       "  </tbody>\n",
       "</table>\n",
       "</div>"
      ],
      "text/plain": [
       "   0\n",
       "0  1\n",
       "1  2\n",
       "2  3\n",
       "3  4\n",
       "4  5\n",
       "5  6\n",
       "6  7"
      ]
     },
     "execution_count": 41,
     "metadata": {},
     "output_type": "execute_result"
    }
   ],
   "source": [
    "lst = [1,2,3,4,5,6,7]\n",
    "df = pd.DataFrame(lst)\n",
    "df"
   ]
  },
  {
   "cell_type": "code",
   "execution_count": 43,
   "id": "a824c8d3-d595-49b3-89e7-466d4fcc4d7b",
   "metadata": {},
   "outputs": [
    {
     "data": {
      "text/html": [
       "<div>\n",
       "<style scoped>\n",
       "    .dataframe tbody tr th:only-of-type {\n",
       "        vertical-align: middle;\n",
       "    }\n",
       "\n",
       "    .dataframe tbody tr th {\n",
       "        vertical-align: top;\n",
       "    }\n",
       "\n",
       "    .dataframe thead th {\n",
       "        text-align: right;\n",
       "    }\n",
       "</style>\n",
       "<table border=\"1\" class=\"dataframe\">\n",
       "  <thead>\n",
       "    <tr style=\"text-align: right;\">\n",
       "      <th></th>\n",
       "      <th>0</th>\n",
       "      <th>1</th>\n",
       "      <th>2</th>\n",
       "      <th>3</th>\n",
       "      <th>4</th>\n",
       "    </tr>\n",
       "  </thead>\n",
       "  <tbody>\n",
       "    <tr>\n",
       "      <th>0</th>\n",
       "      <td>1</td>\n",
       "      <td>2</td>\n",
       "      <td>3</td>\n",
       "      <td>4</td>\n",
       "      <td>5</td>\n",
       "    </tr>\n",
       "    <tr>\n",
       "      <th>1</th>\n",
       "      <td>11</td>\n",
       "      <td>12</td>\n",
       "      <td>13</td>\n",
       "      <td>14</td>\n",
       "      <td>15</td>\n",
       "    </tr>\n",
       "  </tbody>\n",
       "</table>\n",
       "</div>"
      ],
      "text/plain": [
       "    0   1   2   3   4\n",
       "0   1   2   3   4   5\n",
       "1  11  12  13  14  15"
      ]
     },
     "execution_count": 43,
     "metadata": {},
     "output_type": "execute_result"
    }
   ],
   "source": [
    "lst = [[1,2,3,4,5],[11,12,13,14,15]]\n",
    "df = pd.DataFrame(lst)\n",
    "df"
   ]
  },
  {
   "cell_type": "code",
   "execution_count": 45,
   "id": "608e69fc-9e5a-453f-bbe9-f2ec01e63ec0",
   "metadata": {},
   "outputs": [
    {
     "data": {
      "text/html": [
       "<div>\n",
       "<style scoped>\n",
       "    .dataframe tbody tr th:only-of-type {\n",
       "        vertical-align: middle;\n",
       "    }\n",
       "\n",
       "    .dataframe tbody tr th {\n",
       "        vertical-align: top;\n",
       "    }\n",
       "\n",
       "    .dataframe thead th {\n",
       "        text-align: right;\n",
       "    }\n",
       "</style>\n",
       "<table border=\"1\" class=\"dataframe\">\n",
       "  <thead>\n",
       "    <tr style=\"text-align: right;\">\n",
       "      <th></th>\n",
       "      <th>a</th>\n",
       "      <th>b</th>\n",
       "      <th>c</th>\n",
       "      <th>d</th>\n",
       "    </tr>\n",
       "  </thead>\n",
       "  <tbody>\n",
       "    <tr>\n",
       "      <th>0</th>\n",
       "      <td>5</td>\n",
       "      <td>7</td>\n",
       "      <td>8</td>\n",
       "      <td>2</td>\n",
       "    </tr>\n",
       "    <tr>\n",
       "      <th>1</th>\n",
       "      <td>2</td>\n",
       "      <td>3</td>\n",
       "      <td>6</td>\n",
       "      <td>11</td>\n",
       "    </tr>\n",
       "  </tbody>\n",
       "</table>\n",
       "</div>"
      ],
      "text/plain": [
       "   a  b  c   d\n",
       "0  5  7  8   2\n",
       "1  2  3  6  11"
      ]
     },
     "execution_count": 45,
     "metadata": {},
     "output_type": "execute_result"
    }
   ],
   "source": [
    "a = [{'a':5,'b':7,'c':8,'d':2},\n",
    "     {'a':2,'b':3,'c':6,'d':11}]\n",
    "df = pd.DataFrame(a)\n",
    "df"
   ]
  },
  {
   "cell_type": "code",
   "execution_count": 47,
   "id": "3347a010-b3cd-4993-8525-492954d6488d",
   "metadata": {},
   "outputs": [
    {
     "data": {
      "text/html": [
       "<div>\n",
       "<style scoped>\n",
       "    .dataframe tbody tr th:only-of-type {\n",
       "        vertical-align: middle;\n",
       "    }\n",
       "\n",
       "    .dataframe tbody tr th {\n",
       "        vertical-align: top;\n",
       "    }\n",
       "\n",
       "    .dataframe thead th {\n",
       "        text-align: right;\n",
       "    }\n",
       "</style>\n",
       "<table border=\"1\" class=\"dataframe\">\n",
       "  <thead>\n",
       "    <tr style=\"text-align: right;\">\n",
       "      <th></th>\n",
       "      <th>Roll number</th>\n",
       "      <th>math</th>\n",
       "      <th>physics</th>\n",
       "    </tr>\n",
       "  </thead>\n",
       "  <tbody>\n",
       "    <tr>\n",
       "      <th>0</th>\n",
       "      <td>1</td>\n",
       "      <td>78</td>\n",
       "      <td>99</td>\n",
       "    </tr>\n",
       "    <tr>\n",
       "      <th>1</th>\n",
       "      <td>2</td>\n",
       "      <td>98</td>\n",
       "      <td>98</td>\n",
       "    </tr>\n",
       "    <tr>\n",
       "      <th>2</th>\n",
       "      <td>3</td>\n",
       "      <td>99</td>\n",
       "      <td>78</td>\n",
       "    </tr>\n",
       "    <tr>\n",
       "      <th>3</th>\n",
       "      <td>4</td>\n",
       "      <td>88</td>\n",
       "      <td>88</td>\n",
       "    </tr>\n",
       "    <tr>\n",
       "      <th>4</th>\n",
       "      <td>5</td>\n",
       "      <td>90</td>\n",
       "      <td>90</td>\n",
       "    </tr>\n",
       "  </tbody>\n",
       "</table>\n",
       "</div>"
      ],
      "text/plain": [
       "   Roll number  math  physics\n",
       "0            1    78       99\n",
       "1            2    98       98\n",
       "2            3    99       78\n",
       "3            4    88       88\n",
       "4            5    90       90"
      ]
     },
     "execution_count": 47,
     "metadata": {},
     "output_type": "execute_result"
    }
   ],
   "source": [
    "b = {'Roll number':pd.Series([1,2,3,4,5]),\n",
    "     'math':pd.Series([78,98,99,88,90]),\n",
    "     'physics':pd.Series([99,98,78,88,90])}\n",
    "df = pd.DataFrame(b)\n",
    "df"
   ]
  },
  {
   "cell_type": "code",
   "execution_count": 15,
   "id": "573d04c3-3423-4198-b815-aefc6d54166b",
   "metadata": {},
   "outputs": [
    {
     "data": {
      "text/html": [
       "<div>\n",
       "<style scoped>\n",
       "    .dataframe tbody tr th:only-of-type {\n",
       "        vertical-align: middle;\n",
       "    }\n",
       "\n",
       "    .dataframe tbody tr th {\n",
       "        vertical-align: top;\n",
       "    }\n",
       "\n",
       "    .dataframe thead th {\n",
       "        text-align: right;\n",
       "    }\n",
       "</style>\n",
       "<table border=\"1\" class=\"dataframe\">\n",
       "  <thead>\n",
       "    <tr style=\"text-align: right;\">\n",
       "      <th></th>\n",
       "      <th>gender</th>\n",
       "      <th>race/ethnicity</th>\n",
       "      <th>parental level of education</th>\n",
       "      <th>lunch</th>\n",
       "      <th>test preparation course</th>\n",
       "      <th>math score</th>\n",
       "      <th>reading score</th>\n",
       "      <th>writing score</th>\n",
       "    </tr>\n",
       "  </thead>\n",
       "  <tbody>\n",
       "    <tr>\n",
       "      <th>0</th>\n",
       "      <td>female</td>\n",
       "      <td>group B</td>\n",
       "      <td>bachelor's degree</td>\n",
       "      <td>standard</td>\n",
       "      <td>none</td>\n",
       "      <td>72</td>\n",
       "      <td>72</td>\n",
       "      <td>74</td>\n",
       "    </tr>\n",
       "    <tr>\n",
       "      <th>1</th>\n",
       "      <td>female</td>\n",
       "      <td>group C</td>\n",
       "      <td>some college</td>\n",
       "      <td>standard</td>\n",
       "      <td>completed</td>\n",
       "      <td>69</td>\n",
       "      <td>90</td>\n",
       "      <td>88</td>\n",
       "    </tr>\n",
       "    <tr>\n",
       "      <th>2</th>\n",
       "      <td>female</td>\n",
       "      <td>group B</td>\n",
       "      <td>master's degree</td>\n",
       "      <td>standard</td>\n",
       "      <td>none</td>\n",
       "      <td>90</td>\n",
       "      <td>95</td>\n",
       "      <td>93</td>\n",
       "    </tr>\n",
       "    <tr>\n",
       "      <th>3</th>\n",
       "      <td>male</td>\n",
       "      <td>group A</td>\n",
       "      <td>associate's degree</td>\n",
       "      <td>free/reduced</td>\n",
       "      <td>none</td>\n",
       "      <td>47</td>\n",
       "      <td>57</td>\n",
       "      <td>44</td>\n",
       "    </tr>\n",
       "    <tr>\n",
       "      <th>4</th>\n",
       "      <td>male</td>\n",
       "      <td>group C</td>\n",
       "      <td>some college</td>\n",
       "      <td>standard</td>\n",
       "      <td>none</td>\n",
       "      <td>76</td>\n",
       "      <td>78</td>\n",
       "      <td>75</td>\n",
       "    </tr>\n",
       "  </tbody>\n",
       "</table>\n",
       "</div>"
      ],
      "text/plain": [
       "   gender race/ethnicity parental level of education         lunch  \\\n",
       "0  female        group B           bachelor's degree      standard   \n",
       "1  female        group C                some college      standard   \n",
       "2  female        group B             master's degree      standard   \n",
       "3    male        group A          associate's degree  free/reduced   \n",
       "4    male        group C                some college      standard   \n",
       "\n",
       "  test preparation course  math score  reading score  writing score  \n",
       "0                    none          72             72             74  \n",
       "1               completed          69             90             88  \n",
       "2                    none          90             95             93  \n",
       "3                    none          47             57             44  \n",
       "4                    none          76             78             75  "
      ]
     },
     "execution_count": 15,
     "metadata": {},
     "output_type": "execute_result"
    }
   ],
   "source": [
    "import pandas as pd\n",
    "df = pd.read_csv(r'C:\\Users\\user\\Downloads\\archive (1).zip')\n",
    "df.head()\n",
    "\n"
   ]
  },
  {
   "cell_type": "code",
   "execution_count": 29,
   "id": "14d37881-09ca-4d06-98a3-24a0124ca918",
   "metadata": {},
   "outputs": [
    {
     "data": {
      "text/plain": [
       "gender                                       male\n",
       "race/ethnicity                            group A\n",
       "parental level of education    associate's degree\n",
       "lunch                                free/reduced\n",
       "test preparation course                      none\n",
       "math score                                     47\n",
       "reading score                                  57\n",
       "writing score                                  44\n",
       "Name: 3, dtype: object"
      ]
     },
     "execution_count": 29,
     "metadata": {},
     "output_type": "execute_result"
    }
   ],
   "source": [
    "df.loc[3]"
   ]
  },
  {
   "cell_type": "code",
   "execution_count": 35,
   "id": "f2a53e40-5036-4e9e-9111-e374531899c5",
   "metadata": {},
   "outputs": [
    {
     "data": {
      "text/plain": [
       "57"
      ]
     },
     "execution_count": 35,
     "metadata": {},
     "output_type": "execute_result"
    }
   ],
   "source": [
    "df.loc[3,'reading score']"
   ]
  },
  {
   "cell_type": "code",
   "execution_count": 37,
   "id": "552b8a7c-290d-4d99-ba76-09e857d83765",
   "metadata": {},
   "outputs": [
    {
     "data": {
      "text/plain": [
       "5     83\n",
       "6     95\n",
       "7     43\n",
       "8     64\n",
       "9     60\n",
       "10    54\n",
       "11    52\n",
       "12    81\n",
       "13    72\n",
       "14    53\n",
       "15    75\n",
       "Name: reading score, dtype: int64"
      ]
     },
     "execution_count": 37,
     "metadata": {},
     "output_type": "execute_result"
    }
   ],
   "source": [
    "df.loc[5:15, 'reading score']"
   ]
  },
  {
   "cell_type": "code",
   "execution_count": 41,
   "id": "90f7b4e8-4948-44f5-b99a-e44b6f962b90",
   "metadata": {},
   "outputs": [
    {
     "name": "stdout",
     "output_type": "stream",
     "text": [
      "<class 'pandas.core.frame.DataFrame'>\n",
      "RangeIndex: 1000 entries, 0 to 999\n",
      "Data columns (total 8 columns):\n",
      " #   Column                       Non-Null Count  Dtype \n",
      "---  ------                       --------------  ----- \n",
      " 0   gender                       1000 non-null   object\n",
      " 1   race/ethnicity               1000 non-null   object\n",
      " 2   parental level of education  1000 non-null   object\n",
      " 3   lunch                        1000 non-null   object\n",
      " 4   test preparation course      1000 non-null   object\n",
      " 5   math score                   1000 non-null   int64 \n",
      " 6   reading score                1000 non-null   int64 \n",
      " 7   writing score                1000 non-null   int64 \n",
      "dtypes: int64(3), object(5)\n",
      "memory usage: 62.6+ KB\n"
     ]
    }
   ],
   "source": [
    "df.info()"
   ]
  },
  {
   "cell_type": "code",
   "execution_count": 43,
   "id": "cf5d587a-a51b-4cdd-b735-c83ae5c8fbea",
   "metadata": {},
   "outputs": [
    {
     "data": {
      "text/html": [
       "<div>\n",
       "<style scoped>\n",
       "    .dataframe tbody tr th:only-of-type {\n",
       "        vertical-align: middle;\n",
       "    }\n",
       "\n",
       "    .dataframe tbody tr th {\n",
       "        vertical-align: top;\n",
       "    }\n",
       "\n",
       "    .dataframe thead th {\n",
       "        text-align: right;\n",
       "    }\n",
       "</style>\n",
       "<table border=\"1\" class=\"dataframe\">\n",
       "  <thead>\n",
       "    <tr style=\"text-align: right;\">\n",
       "      <th></th>\n",
       "      <th>math score</th>\n",
       "      <th>reading score</th>\n",
       "      <th>writing score</th>\n",
       "    </tr>\n",
       "  </thead>\n",
       "  <tbody>\n",
       "    <tr>\n",
       "      <th>count</th>\n",
       "      <td>1000.00000</td>\n",
       "      <td>1000.000000</td>\n",
       "      <td>1000.000000</td>\n",
       "    </tr>\n",
       "    <tr>\n",
       "      <th>mean</th>\n",
       "      <td>66.08900</td>\n",
       "      <td>69.169000</td>\n",
       "      <td>68.054000</td>\n",
       "    </tr>\n",
       "    <tr>\n",
       "      <th>std</th>\n",
       "      <td>15.16308</td>\n",
       "      <td>14.600192</td>\n",
       "      <td>15.195657</td>\n",
       "    </tr>\n",
       "    <tr>\n",
       "      <th>min</th>\n",
       "      <td>0.00000</td>\n",
       "      <td>17.000000</td>\n",
       "      <td>10.000000</td>\n",
       "    </tr>\n",
       "    <tr>\n",
       "      <th>25%</th>\n",
       "      <td>57.00000</td>\n",
       "      <td>59.000000</td>\n",
       "      <td>57.750000</td>\n",
       "    </tr>\n",
       "    <tr>\n",
       "      <th>50%</th>\n",
       "      <td>66.00000</td>\n",
       "      <td>70.000000</td>\n",
       "      <td>69.000000</td>\n",
       "    </tr>\n",
       "    <tr>\n",
       "      <th>75%</th>\n",
       "      <td>77.00000</td>\n",
       "      <td>79.000000</td>\n",
       "      <td>79.000000</td>\n",
       "    </tr>\n",
       "    <tr>\n",
       "      <th>max</th>\n",
       "      <td>100.00000</td>\n",
       "      <td>100.000000</td>\n",
       "      <td>100.000000</td>\n",
       "    </tr>\n",
       "  </tbody>\n",
       "</table>\n",
       "</div>"
      ],
      "text/plain": [
       "       math score  reading score  writing score\n",
       "count  1000.00000    1000.000000    1000.000000\n",
       "mean     66.08900      69.169000      68.054000\n",
       "std      15.16308      14.600192      15.195657\n",
       "min       0.00000      17.000000      10.000000\n",
       "25%      57.00000      59.000000      57.750000\n",
       "50%      66.00000      70.000000      69.000000\n",
       "75%      77.00000      79.000000      79.000000\n",
       "max     100.00000     100.000000     100.000000"
      ]
     },
     "execution_count": 43,
     "metadata": {},
     "output_type": "execute_result"
    }
   ],
   "source": [
    "df.describe()"
   ]
  },
  {
   "cell_type": "code",
   "execution_count": null,
   "id": "8cb3b081-0985-4fc6-91b6-b05b908b6e8d",
   "metadata": {},
   "outputs": [],
   "source": []
  }
 ],
 "metadata": {
  "kernelspec": {
   "display_name": "Python 3 (ipykernel)",
   "language": "python",
   "name": "python3"
  },
  "language_info": {
   "codemirror_mode": {
    "name": "ipython",
    "version": 3
   },
   "file_extension": ".py",
   "mimetype": "text/x-python",
   "name": "python",
   "nbconvert_exporter": "python",
   "pygments_lexer": "ipython3",
   "version": "3.12.7"
  }
 },
 "nbformat": 4,
 "nbformat_minor": 5
}
